{
 "cells": [
  {
   "cell_type": "code",
   "execution_count": 15,
   "id": "f91760a9-4ffe-414d-9b91-d2e267c4331e",
   "metadata": {},
   "outputs": [],
   "source": [
    "import re\n",
    "import pandas as pd"
   ]
  },
  {
   "cell_type": "markdown",
   "id": "83978557-8e87-4361-b8f3-c87e4250fe90",
   "metadata": {},
   "source": [
    "1. #to replace oucrrance of space comma and dot"
   ]
  },
  {
   "cell_type": "code",
   "execution_count": 40,
   "id": "a646ddd3-e26c-43ad-aa9f-52ab07e1c028",
   "metadata": {},
   "outputs": [
    {
     "name": "stdout",
     "output_type": "stream",
     "text": [
      "Python:Exercises::PHP:exercises:\n"
     ]
    }
   ],
   "source": [
    "text = 'Python Exercises, PHP exercises.'\n",
    "result = re.sub(r'[ ,.]', ':', text)\n",
    "print(result)  "
   ]
  },
  {
   "cell_type": "markdown",
   "id": "d973f5ce-d179-4024-9203-3fc35f8b23d8",
   "metadata": {},
   "source": [
    "2. #create a dataframe using dictonary given below"
   ]
  },
  {
   "cell_type": "code",
   "execution_count": 17,
   "id": "fa656b3b-e328-47a9-a9f3-4cef57403bf2",
   "metadata": {},
   "outputs": [
    {
     "name": "stdout",
     "output_type": "stream",
     "text": [
      "         SUMMARY\n",
      "0    hello world\n",
      "1     XXXXX test\n",
      "2  four five six\n"
     ]
    }
   ],
   "source": [
    "data = {'SUMMARY': ['hello, world!', 'XXXXX test', '123four, five:; six...']}\n",
    "df = pd.DataFrame(data)\n",
    "\n",
    "def clean_text(text):\n",
    "    return re.sub(r'[^a-zA-Z\\s]', '', text)\n",
    "\n",
    "df['SUMMARY'] = df['SUMMARY'].apply(clean_text)\n",
    "print(df)"
   ]
  },
  {
   "cell_type": "markdown",
   "id": "5394c277-502b-4e97-bada-151c35e125ba",
   "metadata": {},
   "source": [
    "3. #to find all words"
   ]
  },
  {
   "cell_type": "code",
   "execution_count": 18,
   "id": "c9a87612-6e40-49e8-a1ab-a06400d3070e",
   "metadata": {},
   "outputs": [
    {
     "name": "stdout",
     "output_type": "stream",
     "text": [
      "['This', 'test', 'string', 'with', 'several', 'longwords']\n"
     ]
    }
   ],
   "source": [
    "def find_words(text):\n",
    "    pattern = re.compile(r'\\b\\w{4,}\\b')\n",
    "    return pattern.findall(text)\n",
    "\n",
    "text = \"This is a test string with several longwords\"\n",
    "print(find_words(text))"
   ]
  },
  {
   "cell_type": "markdown",
   "id": "167f52d8-16b7-418c-9f36-6d0d43b1c47b",
   "metadata": {},
   "source": [
    "4. #find 3 4 5 character words in a string"
   ]
  },
  {
   "cell_type": "code",
   "execution_count": 19,
   "id": "60b827aa-e125-4767-8b01-d47f1a16672b",
   "metadata": {},
   "outputs": [
    {
     "name": "stdout",
     "output_type": "stream",
     "text": [
      "['This', 'test', 'with']\n"
     ]
    }
   ],
   "source": [
    "def find_specific_length_words(text):\n",
    "    pattern = re.compile(r'\\b\\w{3,5}\\b')\n",
    "    return pattern.findall(text)\n",
    "\n",
    "text = \"This is a test string with several longwords\"\n",
    "print(find_specific_length_words(text))"
   ]
  },
  {
   "cell_type": "markdown",
   "id": "6edddf6e-e7b9-4815-a04a-b04ef9a0abdb",
   "metadata": {},
   "source": [
    "5. #to remove parenthesis"
   ]
  },
  {
   "cell_type": "code",
   "execution_count": 20,
   "id": "085dee65-c870-47ec-9c60-0ad39171168d",
   "metadata": {},
   "outputs": [
    {
     "name": "stdout",
     "output_type": "stream",
     "text": [
      "['example', 'hr@fliprobo', 'github', 'Hello', 'Data']\n"
     ]
    }
   ],
   "source": [
    "def remove_parenthesis(texts):\n",
    "    pattern = re.compile(r'\\s?\\(.*?\\)')\n",
    "    return [pattern.sub('', text) for text in texts]\n",
    "\n",
    "sample_texts = [\"example (.com)\", \"hr@fliprobo (.com)\", \"github (.com)\", \"Hello (Data Science World)\", \"Data (Scientist)\"]\n",
    "print(remove_parenthesis(sample_texts))"
   ]
  },
  {
   "cell_type": "markdown",
   "id": "c5036b3c-5faf-4b3a-a3bc-a120612e85a3",
   "metadata": {},
   "source": [
    "7. #to split a string into uppercase"
   ]
  },
  {
   "cell_type": "code",
   "execution_count": 21,
   "id": "a787402a-a175-4fb1-a279-b37b0d749d33",
   "metadata": {},
   "outputs": [
    {
     "name": "stdout",
     "output_type": "stream",
     "text": [
      "['', 'Importance', 'Of', 'Regular', 'Expressions', 'In', 'Python']\n"
     ]
    }
   ],
   "source": [
    "def split_uppercase(text):\n",
    "    pattern = re.compile(r'(?=[A-Z])')\n",
    "    return pattern.split(text)\n",
    "\n",
    "sample_text = \"ImportanceOfRegularExpressionsInPython\"\n",
    "print(split_uppercase(sample_text))"
   ]
  },
  {
   "cell_type": "markdown",
   "id": "c094a200-ff63-4012-aaed-f1f426cc5303",
   "metadata": {},
   "source": [
    "8. #insert space between words starting numbers"
   ]
  },
  {
   "cell_type": "code",
   "execution_count": 22,
   "id": "1d1111d0-fb6a-49ed-91a1-0303307d6e3f",
   "metadata": {},
   "outputs": [
    {
     "name": "stdout",
     "output_type": "stream",
     "text": [
      "RegularExpression 1IsAn 2ImportantTopic 3InPython\n"
     ]
    }
   ],
   "source": [
    "def insert_spaces_numbers(text):\n",
    "    pattern = re.compile(r'(\\d)')\n",
    "    return pattern.sub(r' \\1', text)\n",
    "\n",
    "sample_text = \"RegularExpression1IsAn2ImportantTopic3InPython\"\n",
    "print(insert_spaces_numbers(sample_text))"
   ]
  },
  {
   "cell_type": "markdown",
   "id": "dfcc6a80-1c2c-48f4-b2eb-d522927c8c04",
   "metadata": {},
   "source": [
    "9. #insert space between words starting capital letters"
   ]
  },
  {
   "cell_type": "code",
   "execution_count": 23,
   "id": "41ce75e0-b952-4c6e-aee5-b5ea85ceb72d",
   "metadata": {},
   "outputs": [
    {
     "name": "stdout",
     "output_type": "stream",
     "text": [
      " Regular Expression 1 Is An 2 Important Topic 3 In Python\n"
     ]
    }
   ],
   "source": [
    "def insert_spaces_numbers_and_caps(text):\n",
    "    pattern = re.compile(r'(?=[A-Z0-9])')\n",
    "    return pattern.sub(r' ', text)\n",
    "\n",
    "sample_text = \"RegularExpression1IsAn2ImportantTopic3InPython\"\n",
    "print(insert_spaces_numbers_and_caps(sample_text))"
   ]
  },
  {
   "cell_type": "markdown",
   "id": "ee8bd981-3547-4c60-a83d-700c9ae284af",
   "metadata": {},
   "source": [
    "10. #to create a dataframe"
   ]
  },
  {
   "cell_type": "code",
   "execution_count": 24,
   "id": "9586f328-4d49-4cc6-9bd4-33c38cdd7ef2",
   "metadata": {},
   "outputs": [
    {
     "name": "stdout",
     "output_type": "stream",
     "text": [
      "       Country first_six_letters\n",
      "0  Switzerland            Switze\n",
      "1      Iceland            Icelan\n",
      "2      Denmark            Denmar\n",
      "3       Norway            Norway\n",
      "4       Canada            Canada\n"
     ]
    }
   ],
   "source": [
    "url = 'https://raw.githubusercontent.com/dsrscientist/DSData/master/happiness_score_dataset.csv'\n",
    "df = pd.read_csv(url)\n",
    "\n",
    "df['first_six_letters'] = df['Country'].str[:6]\n",
    "print(df[['Country', 'first_six_letters']].head())"
   ]
  },
  {
   "cell_type": "markdown",
   "id": "9a009b29-37e8-4d82-8bc5-89a916cb7130",
   "metadata": {},
   "source": [
    "11. #to match a string"
   ]
  },
  {
   "cell_type": "code",
   "execution_count": 25,
   "id": "deac1455-c950-4e38-ba38-a6bb738a4c17",
   "metadata": {},
   "outputs": [
    {
     "name": "stdout",
     "output_type": "stream",
     "text": [
      "True\n"
     ]
    }
   ],
   "source": [
    "def match_string(text):\n",
    "    pattern = re.compile(r'^\\w+$')\n",
    "    return bool(pattern.match(text))\n",
    "\n",
    "sample_text = \"Valid_String_123\"\n",
    "print(match_string(sample_text))"
   ]
  },
  {
   "cell_type": "markdown",
   "id": "ea070aa6-e9f2-4113-8517-45d6681e219b",
   "metadata": {},
   "source": [
    "12. #where string starts with specific number"
   ]
  },
  {
   "cell_type": "code",
   "execution_count": 26,
   "id": "9ce4a631-e104-40e7-80ef-1f3aabc68126",
   "metadata": {},
   "outputs": [
    {
     "name": "stdout",
     "output_type": "stream",
     "text": [
      "True\n"
     ]
    }
   ],
   "source": [
    "def starts_with_number(text):\n",
    "    pattern = re.compile(r'^\\d')\n",
    "    return bool(pattern.match(text))\n",
    "\n",
    "sample_text = \"123StartWithNumber\"\n",
    "print(starts_with_number(sample_text))"
   ]
  },
  {
   "cell_type": "markdown",
   "id": "9330fc2e-dcb1-4c6c-af1e-1c69010c8b10",
   "metadata": {},
   "source": [
    "13. #to remove leading zeors from ip address"
   ]
  },
  {
   "cell_type": "code",
   "execution_count": 27,
   "id": "b9d4c6ae-36dc-410c-8fde-43707adb8bf8",
   "metadata": {},
   "outputs": [
    {
     "name": "stdout",
     "output_type": "stream",
     "text": [
      "192.168.1.1\n"
     ]
    }
   ],
   "source": [
    "def remove_leading_zeros(ip):\n",
    "    pattern = re.compile(r'\\b0+(\\d)')\n",
    "    return pattern.sub(r'\\1', ip)\n",
    "\n",
    "sample_ip = \"192.168.001.001\"\n",
    "print(remove_leading_zeros(sample_ip))"
   ]
  },
  {
   "cell_type": "markdown",
   "id": "73b16535-4919-4c18-820e-4f0a8a9ead7b",
   "metadata": {},
   "source": [
    "15. #to search some literals strings in string"
   ]
  },
  {
   "cell_type": "code",
   "execution_count": 30,
   "id": "e9521b93-8b3a-4217-ad72-90ddbdcdd940",
   "metadata": {},
   "outputs": [
    {
     "name": "stdout",
     "output_type": "stream",
     "text": [
      "['fox', 'dog']\n"
     ]
    }
   ],
   "source": [
    "def search_literals(text, words):\n",
    "    return [word for word in words if word in text]\n",
    "\n",
    "sample_text = 'The quick brown fox jumps over the lazy dog.'\n",
    "search_words = ['fox', 'dog', 'horse']\n",
    "print(search_literals(sample_text, search_words))"
   ]
  },
  {
   "cell_type": "markdown",
   "id": "7f0b2487-2b47-4252-8744-e61481784dd7",
   "metadata": {},
   "source": [
    "16. #to search literal string in string and also location within original string"
   ]
  },
  {
   "cell_type": "code",
   "execution_count": 31,
   "id": "f352447d-07de-491c-99ff-b45bd44b036b",
   "metadata": {},
   "outputs": [
    {
     "name": "stdout",
     "output_type": "stream",
     "text": [
      "16\n"
     ]
    }
   ],
   "source": [
    "def search_and_find_location(text, word):\n",
    "    pattern = re.compile(word)\n",
    "    match = pattern.search(text)\n",
    "    return match.start() if match else -1\n",
    "\n",
    "sample_text = 'The quick brown fox jumps over the lazy dog.'\n",
    "search_word = 'fox'\n",
    "print(search_and_find_location(sample_text, search_word))"
   ]
  },
  {
   "cell_type": "markdown",
   "id": "d3f140ec-c5c9-441e-9027-978ee61f2d5a",
   "metadata": {},
   "source": [
    "17. #to substrings within a string"
   ]
  },
  {
   "cell_type": "code",
   "execution_count": 32,
   "id": "4a05af02-badf-498b-b766-a229647ad0ae",
   "metadata": {},
   "outputs": [
    {
     "name": "stdout",
     "output_type": "stream",
     "text": [
      "['exercises', 'exercises', 'exercises']\n"
     ]
    }
   ],
   "source": [
    "def find_substrings(text, pattern):\n",
    "    compiled_pattern = re.compile(pattern)\n",
    "    return compiled_pattern.findall(text)\n",
    "\n",
    "sample_text = 'Python exercises, PHP exercises, C# exercises'\n",
    "pattern = 'exercises'\n",
    "print(find_substrings(sample_text, pattern))"
   ]
  },
  {
   "cell_type": "markdown",
   "id": "e7c9c864-51e5-4209-9c23-f8750aa33a47",
   "metadata": {},
   "source": [
    "19. #to convert a date of yyyy-mm-dd format to dd-mm-yyyy format"
   ]
  },
  {
   "cell_type": "code",
   "execution_count": 33,
   "id": "82aa0f15-35b1-42bb-918d-9eb1bb68d53b",
   "metadata": {},
   "outputs": [
    {
     "name": "stdout",
     "output_type": "stream",
     "text": [
      "04-07-2024\n"
     ]
    }
   ],
   "source": [
    "def convert_date_format(date):\n",
    "    return re.sub(r'(\\d{4})-(\\d{2})-(\\d{2})', r'\\3-\\2-\\1', date)\n",
    "\n",
    "sample_date = '2024-07-04'\n",
    "print(convert_date_format(sample_date)) "
   ]
  },
  {
   "cell_type": "markdown",
   "id": "0e04c919-6a74-47fc-a50e-df37e0c35c8b",
   "metadata": {},
   "source": [
    "20. #to find all decimal number"
   ]
  },
  {
   "cell_type": "code",
   "execution_count": 34,
   "id": "1168c2c0-bf38-45e7-9488-e45d2c81a0ac",
   "metadata": {},
   "outputs": [
    {
     "name": "stdout",
     "output_type": "stream",
     "text": [
      "['01.12', '145.8', '3.01', '27.25', '0.25']\n"
     ]
    }
   ],
   "source": [
    "def find_decimal_numbers(text):\n",
    "    pattern = re.compile(r'\\b\\d+\\.\\d{1,2}\\b')\n",
    "    return pattern.findall(text)\n",
    "\n",
    "sample_text = \"01.12 0132.123 2.31875 145.8 3.01 27.25 0.25\"\n",
    "print(find_decimal_numbers(sample_text))"
   ]
  },
  {
   "cell_type": "markdown",
   "id": "4ed1b8e5-e734-4ef2-a732-d88dc59b1abc",
   "metadata": {},
   "source": [
    "21. #to seperate and print the number and their position of given string"
   ]
  },
  {
   "cell_type": "code",
   "execution_count": 35,
   "id": "83e67b41-b93d-457d-b980-4e3696b2651e",
   "metadata": {},
   "outputs": [
    {
     "name": "stdout",
     "output_type": "stream",
     "text": [
      "[('123', 6), ('456', 13), ('789', 20)]\n"
     ]
    }
   ],
   "source": [
    "def separate_numbers_positions(text):\n",
    "    pattern = re.compile(r'\\d+')\n",
    "    return [(match.group(), match.start()) for match in pattern.finditer(text)]\n",
    "\n",
    "sample_text = \"Sample123Text456With789Numbers\"\n",
    "print(separate_numbers_positions(sample_text))"
   ]
  },
  {
   "cell_type": "markdown",
   "id": "4bb478ba-938d-41f2-9264-ed66b420a81b",
   "metadata": {},
   "source": [
    "22. #to exract maximum and largest numeric value from the string "
   ]
  },
  {
   "cell_type": "code",
   "execution_count": 36,
   "id": "4c28a0da-19b5-449c-8649-a6923426f234",
   "metadata": {},
   "outputs": [
    {
     "name": "stdout",
     "output_type": "stream",
     "text": [
      "950\n"
     ]
    }
   ],
   "source": [
    "def extract_max_value(text):\n",
    "    pattern = re.compile(r'\\d+')\n",
    "    numbers = pattern.findall(text)\n",
    "    return max(map(int, numbers))\n",
    "\n",
    "sample_text = 'My marks in each semester are: 947, 896, 926, 524, 734, 950, 642'\n",
    "print(extract_max_value(sample_text))"
   ]
  },
  {
   "cell_type": "markdown",
   "id": "280f2f70-3c2c-4434-98b5-cf579a2389f7",
   "metadata": {},
   "source": [
    "23. #insert spaces between words starting with capital letters"
   ]
  },
  {
   "cell_type": "code",
   "execution_count": 37,
   "id": "53a89378-83a0-4fd9-8e55-e98356bf4285",
   "metadata": {},
   "outputs": [
    {
     "name": "stdout",
     "output_type": "stream",
     "text": [
      " Regular Expression Is An Important Topic In Python\n"
     ]
    }
   ],
   "source": [
    "def insert_spaces_caps(text):\n",
    "    pattern = re.compile(r'(?=[A-Z])')\n",
    "    return pattern.sub(r' ', text)\n",
    "\n",
    "sample_text = \"RegularExpressionIsAnImportantTopicInPython\"\n",
    "print(insert_spaces_caps(sample_text))"
   ]
  },
  {
   "cell_type": "markdown",
   "id": "3d8f9b73-3e8d-4cac-a08e-833d8ea54538",
   "metadata": {},
   "source": [
    "24. #to find sequences of one upper case letter followed by lower case letter"
   ]
  },
  {
   "cell_type": "code",
   "execution_count": 38,
   "id": "98e83d63-b41b-4496-a3d6-8918539c9762",
   "metadata": {},
   "outputs": [
    {
     "name": "stdout",
     "output_type": "stream",
     "text": [
      "['Hello', 'World', 'This', 'Is', 'Test', 'String']\n"
     ]
    }
   ],
   "source": [
    "def match_upper_followed_by_lower(text):\n",
    "    pattern = re.compile(r'\\b[A-Z][a-z]+\\b')\n",
    "    return pattern.findall(text)\n",
    "\n",
    "sample_text = \"Hello World This Is A Test String\"\n",
    "print(match_upper_followed_by_lower(sample_text))"
   ]
  },
  {
   "cell_type": "markdown",
   "id": "f87e5086-0b27-44ad-a581-7a0dbc4db915",
   "metadata": {},
   "source": [
    "25. #to remove continues duplicate words from sentence using regular expression"
   ]
  },
  {
   "cell_type": "code",
   "execution_count": 39,
   "id": "d7b27042-8094-4a48-b753-5634fb2d2167",
   "metadata": {},
   "outputs": [
    {
     "name": "stdout",
     "output_type": "stream",
     "text": [
      "Hello hello world\n"
     ]
    }
   ],
   "source": [
    "def remove_continuous_duplicates(text):\n",
    "    pattern = re.compile(r'\\b(\\w+)\\s+\\1\\b')\n",
    "    return pattern.sub(r'\\1', text)\n",
    "\n",
    "sample_text = \"Hello hello world world\"\n",
    "print(remove_continuous_duplicates(sample_text))"
   ]
  },
  {
   "cell_type": "code",
   "execution_count": null,
   "id": "1355ca66-143d-4e9f-b974-2bc39a18c88b",
   "metadata": {},
   "outputs": [],
   "source": []
  }
 ],
 "metadata": {
  "kernelspec": {
   "display_name": "Python 3 (ipykernel)",
   "language": "python",
   "name": "python3"
  },
  "language_info": {
   "codemirror_mode": {
    "name": "ipython",
    "version": 3
   },
   "file_extension": ".py",
   "mimetype": "text/x-python",
   "name": "python",
   "nbconvert_exporter": "python",
   "pygments_lexer": "ipython3",
   "version": "3.11.7"
  }
 },
 "nbformat": 4,
 "nbformat_minor": 5
}
